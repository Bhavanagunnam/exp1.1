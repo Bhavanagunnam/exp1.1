{
  "nbformat": 4,
  "nbformat_minor": 0,
  "metadata": {
    "colab": {
      "provenance": [],
      "authorship_tag": "ABX9TyOpKw2u1X9zjOPp2tKOKO6v",
      "include_colab_link": true
    },
    "kernelspec": {
      "name": "python3",
      "display_name": "Python 3"
    },
    "language_info": {
      "name": "python"
    }
  },
  "cells": [
    {
      "cell_type": "markdown",
      "metadata": {
        "id": "view-in-github",
        "colab_type": "text"
      },
      "source": [
        "<a href=\"https://colab.research.google.com/github/Bhavanagunnam/exp1.1/blob/main/Untitled8.ipynb\" target=\"_parent\"><img src=\"https://colab.research.google.com/assets/colab-badge.svg\" alt=\"Open In Colab\"/></a>"
      ]
    },
    {
      "cell_type": "code",
      "execution_count": 14,
      "metadata": {
        "colab": {
          "base_uri": "https://localhost:8080/"
        },
        "id": "jfDuffaGLY-G",
        "outputId": "8182878d-6d75-4965-efc5-1b3110d4ba7e"
      },
      "outputs": [
        {
          "output_type": "stream",
          "name": "stdout",
          "text": [
            "pearson's correlation coefficient 0.9999999999999998\n"
          ]
        }
      ],
      "source": [
        "import numpy as np\n",
        "def pearson_correlation(x,y):\n",
        "  mean_x=np.mean(x)\n",
        "  mean_y=np.mean(y)\n",
        "  covariance=np.sum((x-mean_x)*(y-mean_y))\n",
        "  std_dev_x=np.sqrt(np.sum((x-mean_x)**2))\n",
        "  std_dev_y=np.sqrt(np.sum((y-mean_y)**2))\n",
        "  correlation=covariance/(std_dev_x*std_dev_y)\n",
        "  return correlation\n",
        "x=np.array([1,2,3,4,5])\n",
        "y=np.array([2,3,4,5,6])\n",
        "print(\"pearson's correlation coefficient\",pearson_correlation(x,y))"
      ]
    },
    {
      "cell_type": "code",
      "source": [
        "from sklearn.metrics.pairwise import cosine_similarity\n",
        "vector1=np.array([1,2,3])\n",
        "vector2=np.array([4,5,6])\n",
        "cosine_sim=cosine_similarity(vector1.reshape(1,-1),vector2.reshape(1,-1))\n",
        "print(\"cosine similarity:\",cosine_sim[0][0])\n"
      ],
      "metadata": {
        "colab": {
          "base_uri": "https://localhost:8080/"
        },
        "id": "U1CqySW6OX4F",
        "outputId": "4785d025-805d-4b70-a4a9-0c341dccba23"
      },
      "execution_count": 16,
      "outputs": [
        {
          "output_type": "stream",
          "name": "stdout",
          "text": [
            "cosine similarity: 0.9746318461970762\n"
          ]
        }
      ]
    },
    {
      "cell_type": "code",
      "source": [
        "def jaccard_similarity(set1,set2):\n",
        "  intersection=len(set1.intersection(set2))\n",
        "  union=len(set1.union(set2))\n",
        "  return intersection /union\n",
        "set1=set([1,2,3])\n",
        "set2=set([2,3,4])\n",
        "print(\"jaccard similrity\",jaccard_similarity(set1,set2))"
      ],
      "metadata": {
        "colab": {
          "base_uri": "https://localhost:8080/"
        },
        "id": "l9AoRZzRQyQl",
        "outputId": "cd572d00-8838-427b-9bf6-873ce316d34d"
      },
      "execution_count": 18,
      "outputs": [
        {
          "output_type": "stream",
          "name": "stdout",
          "text": [
            "jaccard similrity 0.5\n"
          ]
        }
      ]
    },
    {
      "cell_type": "code",
      "source": [
        "def euclidean_distance(x,y):\n",
        "   return np.sqrt(np.sqrt(np.sum((x-y)**2)))\n",
        "point1=np.array([1,2,3])\n",
        "point2=np.array([4,5,6])\n",
        "print(\"euclidean distamnce:\",euclidean_distance(point1,point2))\n"
      ],
      "metadata": {
        "colab": {
          "base_uri": "https://localhost:8080/"
        },
        "id": "a7Iak1OSQ71k",
        "outputId": "0db0719b-03fc-4f04-fd00-811f822fd0fb"
      },
      "execution_count": 19,
      "outputs": [
        {
          "output_type": "stream",
          "name": "stdout",
          "text": [
            "euclidean distamnce: 2.2795070569547775\n"
          ]
        }
      ]
    },
    {
      "cell_type": "code",
      "source": [
        "def manhattan_distance(x,y):\n",
        "  return np.sum(np.abs(x-y))\n",
        "point1=np.array([1,2,3])\n",
        "point2=np.array([4,5,6])\n",
        "print(\"manhattan distance:\",manhattan_distance(point1,point2))\n",
        ""
      ],
      "metadata": {
        "colab": {
          "base_uri": "https://localhost:8080/"
        },
        "id": "0F70-gBoRyqd",
        "outputId": "f473e9cc-dc69-4b05-8a66-e8fae8a24030"
      },
      "execution_count": 20,
      "outputs": [
        {
          "output_type": "stream",
          "name": "stdout",
          "text": [
            "manhattan distance: 9\n"
          ]
        }
      ]
    }
  ]
}